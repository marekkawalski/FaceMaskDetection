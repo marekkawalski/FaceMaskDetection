{
 "cells": [
  {
   "cell_type": "code",
   "execution_count": 1,
   "id": "2cfd0e00",
   "metadata": {},
   "outputs": [],
   "source": [
    "# import the necessary packages\n",
    "from tensorflow.keras.preprocessing.image import ImageDataGenerator\n",
    "from tensorflow.keras.applications import MobileNetV2\n",
    "from tensorflow.keras.layers import AveragePooling2D\n",
    "from tensorflow.keras.layers import Dropout\n",
    "from tensorflow.keras.layers import Flatten\n",
    "from tensorflow.keras.layers import Dense\n",
    "from tensorflow.keras.layers import Input\n",
    "from tensorflow.keras.models import Model\n",
    "from tensorflow.keras.optimizers import Adam\n",
    "from tensorflow.keras.applications.mobilenet_v2 import preprocess_input\n",
    "from tensorflow.keras.preprocessing.image import img_to_array\n",
    "from tensorflow.keras.preprocessing.image import load_img\n",
    "from tensorflow.keras.utils import to_categorical\n",
    "from sklearn.preprocessing import LabelBinarizer\n",
    "from sklearn.model_selection import train_test_split\n",
    "from sklearn.metrics import classification_report\n",
    "from imutils import paths\n",
    "import matplotlib.pyplot as plt\n",
    "import numpy as np\n",
    "import os"
   ]
  },
  {
   "cell_type": "code",
   "execution_count": 2,
   "id": "d0f1eeb8",
   "metadata": {},
   "outputs": [],
   "source": [
    "# initialize the initial learning rate, number of epochs to train for,\n",
    "# and batch size\n",
    "INIT_LR = 3e-4\n",
    "EPOCHS = 50\n",
    "BS = 32\n",
    "initParams = \"INIT_LR_\"+str(INIT_LR)+\",EPOCHS_\"+str(EPOCHS)+\",BS_\"+str(BS)"
   ]
  },
  {
   "cell_type": "code",
   "execution_count": 3,
   "id": "4eefd7e8",
   "metadata": {},
   "outputs": [
    {
     "name": "stdout",
     "output_type": "stream",
     "text": [
      "[INFO] loading images...\n"
     ]
    }
   ],
   "source": [
    "DIRECTORY = r\".\\dataset\"\n",
    "CATEGORIES = [\"with_mask\", \"without_mask\"]\n",
    "\n",
    "# grab the list of images in our dataset directory, then initialize\n",
    "# the list of data (i.e., images) and class images\n",
    "print(\"[INFO] loading images...\")\n",
    "\n",
    "data = []\n",
    "labels = []\n"
   ]
  },
  {
   "cell_type": "code",
   "execution_count": 4,
   "id": "d0f70f23",
   "metadata": {},
   "outputs": [
    {
     "name": "stderr",
     "output_type": "stream",
     "text": [
      "C:\\Aplikacje\\Anaconda\\anaconda\\envs\\tf\\lib\\site-packages\\PIL\\Image.py:992: UserWarning: Palette images with Transparency expressed in bytes should be converted to RGBA images\n",
      "  warnings.warn(\n"
     ]
    }
   ],
   "source": [
    "for category in CATEGORIES:\n",
    "    path = os.path.join(DIRECTORY, category)\n",
    "    for img in os.listdir(path):\n",
    "    \timg_path = os.path.join(path, img)\n",
    "    \timage = load_img(img_path, target_size=(224, 224))\n",
    "    \timage = img_to_array(image)\n",
    "    \timage = preprocess_input(image)\n",
    "\n",
    "    \tdata.append(image)\n",
    "    \tlabels.append(category)"
   ]
  },
  {
   "cell_type": "code",
   "execution_count": 5,
   "id": "400df01d",
   "metadata": {},
   "outputs": [],
   "source": [
    "# perform one-hot encoding on the labels\n",
    "lb = LabelBinarizer()\n",
    "labels = lb.fit_transform(labels)\n",
    "labels = to_categorical(labels)\n",
    "\n",
    "data = np.array(data, dtype=\"float32\")\n",
    "labels = np.array(labels)\n",
    "\n",
    "(trainX, testX, trainY, testY) = train_test_split(data, labels,\n",
    "\ttest_size=0.20, stratify=labels, random_state=42)"
   ]
  },
  {
   "cell_type": "code",
   "execution_count": 6,
   "id": "1cc10632",
   "metadata": {},
   "outputs": [],
   "source": [
    "# construct the training image generator for data augmentation\n",
    "aug = ImageDataGenerator(\n",
    "\trotation_range=20,\n",
    "\tzoom_range=0.15,\n",
    "\twidth_shift_range=0.2,\n",
    "\theight_shift_range=0.2,\n",
    "\tshear_range=0.15,\n",
    "\thorizontal_flip=True,\n",
    "\tfill_mode=\"nearest\")"
   ]
  },
  {
   "cell_type": "code",
   "execution_count": 7,
   "id": "fe0a7405",
   "metadata": {},
   "outputs": [
    {
     "name": "stdout",
     "output_type": "stream",
     "text": [
      "WARNING:tensorflow:`input_shape` is undefined or non-square, or `rows` is not in [96, 128, 160, 192, 224]. Weights for input shape (224, 224) will be loaded as the default.\n"
     ]
    }
   ],
   "source": [
    "# load the MobileNetV2 network, ensuring the head FC layer sets are\n",
    "# left off\n",
    "baseModel = MobileNetV2(weights=\"imagenet\", include_top=False,\n",
    "\tinput_tensor=Input(shape=(224, 224, 3)))"
   ]
  },
  {
   "cell_type": "code",
   "execution_count": 8,
   "id": "1611e3b6",
   "metadata": {},
   "outputs": [],
   "source": [
    "# construct the head of the model that will be placed on top of the\n",
    "# the base model\n",
    "headModel = baseModel.output\n",
    "headModel = AveragePooling2D(pool_size=(7, 7))(headModel)\n",
    "headModel = Flatten(name=\"flatten\")(headModel)\n",
    "headModel = Dense(128, activation=\"relu\")(headModel)\n",
    "headModel = Dropout(0.5)(headModel)\n",
    "headModel = Dense(2, activation=\"relu\")(headModel)"
   ]
  },
  {
   "cell_type": "code",
   "execution_count": 9,
   "id": "a83097b9",
   "metadata": {},
   "outputs": [],
   "source": [
    "# place the head FC model on top of the base model (this will become\n",
    "# the actual model we will train)\n",
    "model = Model(inputs=baseModel.input, outputs=headModel)\n"
   ]
  },
  {
   "cell_type": "code",
   "execution_count": 10,
   "id": "2ca265de",
   "metadata": {},
   "outputs": [],
   "source": [
    "# loop over all layers in the base model and freeze them so they will\n",
    "# *not* be updated during the first training process\n",
    "for layer in baseModel.layers:\n",
    "\tlayer.trainable = False"
   ]
  },
  {
   "cell_type": "code",
   "execution_count": 11,
   "id": "72b00fbc",
   "metadata": {},
   "outputs": [
    {
     "name": "stdout",
     "output_type": "stream",
     "text": [
      "[INFO] compiling model...\n"
     ]
    },
    {
     "name": "stderr",
     "output_type": "stream",
     "text": [
      "C:\\Aplikacje\\Anaconda\\anaconda\\envs\\tf\\lib\\site-packages\\keras\\optimizer_v2\\adam.py:105: UserWarning: The `lr` argument is deprecated, use `learning_rate` instead.\n",
      "  super(Adam, self).__init__(name, **kwargs)\n"
     ]
    }
   ],
   "source": [
    "# compile our model\n",
    "print(\"[INFO] compiling model...\")\n",
    "opt = Adam(lr=INIT_LR, decay=INIT_LR / EPOCHS)\n",
    "model.compile(loss=\"binary_crossentropy\", optimizer=opt,\n",
    "\tmetrics=[\"accuracy\"])"
   ]
  },
  {
   "cell_type": "code",
   "execution_count": 12,
   "id": "4cb3d8b8",
   "metadata": {},
   "outputs": [
    {
     "name": "stdout",
     "output_type": "stream",
     "text": [
      "[INFO] training head...\n",
      "Epoch 1/50\n",
      "95/95 [==============================] - 32s 287ms/step - loss: 2.1873 - accuracy: 0.7976 - val_loss: 0.4009 - val_accuracy: 0.9531\n",
      "Epoch 2/50\n",
      "95/95 [==============================] - 26s 271ms/step - loss: 0.6607 - accuracy: 0.9397 - val_loss: 0.1018 - val_accuracy: 0.9922\n",
      "Epoch 3/50\n",
      "95/95 [==============================] - 26s 272ms/step - loss: 0.4433 - accuracy: 0.9611 - val_loss: 0.1018 - val_accuracy: 0.9935\n",
      "Epoch 4/50\n",
      "95/95 [==============================] - 26s 273ms/step - loss: 0.3389 - accuracy: 0.9680 - val_loss: 0.1542 - val_accuracy: 0.9844\n",
      "Epoch 5/50\n",
      "95/95 [==============================] - 26s 272ms/step - loss: 0.3648 - accuracy: 0.9680 - val_loss: 0.0986 - val_accuracy: 0.9922\n",
      "Epoch 6/50\n",
      "95/95 [==============================] - 26s 273ms/step - loss: 0.2429 - accuracy: 0.9789 - val_loss: 0.0962 - val_accuracy: 0.9935\n",
      "Epoch 7/50\n",
      "95/95 [==============================] - 26s 271ms/step - loss: 0.1953 - accuracy: 0.9802 - val_loss: 0.0781 - val_accuracy: 0.9935\n",
      "Epoch 8/50\n",
      "95/95 [==============================] - 26s 271ms/step - loss: 0.2411 - accuracy: 0.9773 - val_loss: 0.1802 - val_accuracy: 0.9765\n",
      "Epoch 9/50\n",
      "95/95 [==============================] - 26s 276ms/step - loss: 0.2314 - accuracy: 0.9779 - val_loss: 0.0911 - val_accuracy: 0.9922\n",
      "Epoch 10/50\n",
      "95/95 [==============================] - 26s 270ms/step - loss: 0.2183 - accuracy: 0.9779 - val_loss: 0.1424 - val_accuracy: 0.9870\n",
      "Epoch 11/50\n",
      "95/95 [==============================] - 26s 272ms/step - loss: 0.1844 - accuracy: 0.9815 - val_loss: 0.0980 - val_accuracy: 0.9896\n",
      "Epoch 12/50\n",
      "95/95 [==============================] - 26s 270ms/step - loss: 0.1786 - accuracy: 0.9822 - val_loss: 0.0834 - val_accuracy: 0.9922\n",
      "Epoch 13/50\n",
      "95/95 [==============================] - 26s 270ms/step - loss: 0.1726 - accuracy: 0.9838 - val_loss: 0.1042 - val_accuracy: 0.9844\n",
      "Epoch 14/50\n",
      "95/95 [==============================] - 26s 271ms/step - loss: 0.5747 - accuracy: 0.9520 - val_loss: 1.2183 - val_accuracy: 0.8996\n",
      "Epoch 15/50\n",
      "95/95 [==============================] - 26s 271ms/step - loss: 0.6297 - accuracy: 0.9492 - val_loss: 0.1356 - val_accuracy: 0.9883\n",
      "Epoch 16/50\n",
      "95/95 [==============================] - 26s 270ms/step - loss: 0.3407 - accuracy: 0.9750 - val_loss: 0.0872 - val_accuracy: 0.9922\n",
      "Epoch 17/50\n",
      "95/95 [==============================] - 26s 271ms/step - loss: 0.2456 - accuracy: 0.9806 - val_loss: 0.1079 - val_accuracy: 0.9922\n",
      "Epoch 18/50\n",
      "95/95 [==============================] - 27s 287ms/step - loss: 0.2714 - accuracy: 0.9809 - val_loss: 0.1032 - val_accuracy: 0.9935\n",
      "Epoch 19/50\n",
      "95/95 [==============================] - 26s 272ms/step - loss: 0.1881 - accuracy: 0.9862 - val_loss: 0.1022 - val_accuracy: 0.9935\n",
      "Epoch 20/50\n",
      "95/95 [==============================] - 26s 271ms/step - loss: 0.1707 - accuracy: 0.9835 - val_loss: 0.2646 - val_accuracy: 0.9739\n",
      "Epoch 21/50\n",
      "95/95 [==============================] - 26s 271ms/step - loss: 0.2386 - accuracy: 0.9802 - val_loss: 0.1052 - val_accuracy: 0.9909\n",
      "Epoch 22/50\n",
      "95/95 [==============================] - 26s 270ms/step - loss: 0.2011 - accuracy: 0.9835 - val_loss: 0.1058 - val_accuracy: 0.9922\n",
      "Epoch 23/50\n",
      "95/95 [==============================] - 26s 271ms/step - loss: 0.2033 - accuracy: 0.9835 - val_loss: 0.1232 - val_accuracy: 0.9909\n",
      "Epoch 24/50\n",
      "95/95 [==============================] - 26s 271ms/step - loss: 0.2227 - accuracy: 0.9819 - val_loss: 0.1141 - val_accuracy: 0.9909\n",
      "Epoch 25/50\n",
      "95/95 [==============================] - 26s 271ms/step - loss: 0.1979 - accuracy: 0.9815 - val_loss: 0.1020 - val_accuracy: 0.9922\n",
      "Epoch 26/50\n",
      "95/95 [==============================] - 26s 271ms/step - loss: 0.2788 - accuracy: 0.9802 - val_loss: 0.1462 - val_accuracy: 0.9883\n",
      "Epoch 27/50\n",
      "95/95 [==============================] - 26s 271ms/step - loss: 0.3238 - accuracy: 0.9773 - val_loss: 0.0983 - val_accuracy: 0.9883\n",
      "Epoch 28/50\n",
      "95/95 [==============================] - 26s 270ms/step - loss: 0.1932 - accuracy: 0.9825 - val_loss: 0.1733 - val_accuracy: 0.9831\n",
      "Epoch 29/50\n",
      "95/95 [==============================] - 26s 271ms/step - loss: 0.2899 - accuracy: 0.9720 - val_loss: 0.3724 - val_accuracy: 0.9609\n",
      "Epoch 30/50\n",
      "95/95 [==============================] - 26s 270ms/step - loss: 0.3001 - accuracy: 0.9743 - val_loss: 0.0996 - val_accuracy: 0.9896\n",
      "Epoch 31/50\n",
      "95/95 [==============================] - 26s 270ms/step - loss: 0.2187 - accuracy: 0.9829 - val_loss: 0.1224 - val_accuracy: 0.9909\n",
      "Epoch 32/50\n",
      "95/95 [==============================] - 26s 271ms/step - loss: 0.2390 - accuracy: 0.9829 - val_loss: 0.1225 - val_accuracy: 0.9909\n",
      "Epoch 33/50\n",
      "95/95 [==============================] - 26s 269ms/step - loss: 0.2077 - accuracy: 0.9842 - val_loss: 0.1508 - val_accuracy: 0.9896\n",
      "Epoch 34/50\n",
      "95/95 [==============================] - 26s 271ms/step - loss: 0.1826 - accuracy: 0.9858 - val_loss: 0.1140 - val_accuracy: 0.9909\n",
      "Epoch 35/50\n",
      "95/95 [==============================] - 26s 269ms/step - loss: 0.1494 - accuracy: 0.9898 - val_loss: 0.1134 - val_accuracy: 0.9922\n",
      "Epoch 36/50\n",
      "95/95 [==============================] - 26s 271ms/step - loss: 0.1358 - accuracy: 0.9868 - val_loss: 0.1589 - val_accuracy: 0.9883\n",
      "Epoch 37/50\n",
      "95/95 [==============================] - 26s 270ms/step - loss: 0.2238 - accuracy: 0.9835 - val_loss: 0.1209 - val_accuracy: 0.9870\n",
      "Epoch 38/50\n",
      "95/95 [==============================] - 26s 269ms/step - loss: 0.1442 - accuracy: 0.9858 - val_loss: 0.0948 - val_accuracy: 0.9922\n",
      "Epoch 39/50\n",
      "95/95 [==============================] - 26s 270ms/step - loss: 0.1103 - accuracy: 0.9908 - val_loss: 0.1382 - val_accuracy: 0.9857\n",
      "Epoch 40/50\n",
      "95/95 [==============================] - 26s 270ms/step - loss: 0.1261 - accuracy: 0.9868 - val_loss: 0.1034 - val_accuracy: 0.9922\n",
      "Epoch 41/50\n",
      "95/95 [==============================] - 26s 270ms/step - loss: 0.0957 - accuracy: 0.9931 - val_loss: 0.0986 - val_accuracy: 0.9922\n",
      "Epoch 42/50\n",
      "95/95 [==============================] - 26s 270ms/step - loss: 0.1033 - accuracy: 0.9908 - val_loss: 0.0764 - val_accuracy: 0.9922\n",
      "Epoch 43/50\n",
      "95/95 [==============================] - 26s 268ms/step - loss: 0.0883 - accuracy: 0.9918 - val_loss: 0.0993 - val_accuracy: 0.9922\n",
      "Epoch 44/50\n",
      "95/95 [==============================] - 26s 268ms/step - loss: 0.1311 - accuracy: 0.9885 - val_loss: 0.0757 - val_accuracy: 0.9922\n",
      "Epoch 45/50\n",
      "95/95 [==============================] - 26s 268ms/step - loss: 0.1251 - accuracy: 0.9888 - val_loss: 0.1332 - val_accuracy: 0.9896\n",
      "Epoch 46/50\n",
      "95/95 [==============================] - 26s 269ms/step - loss: 0.0873 - accuracy: 0.9927 - val_loss: 0.0857 - val_accuracy: 0.9922\n",
      "Epoch 47/50\n",
      "95/95 [==============================] - 26s 270ms/step - loss: 0.1046 - accuracy: 0.9911 - val_loss: 0.1066 - val_accuracy: 0.9909\n",
      "Epoch 48/50\n",
      "95/95 [==============================] - 26s 269ms/step - loss: 0.1359 - accuracy: 0.9891 - val_loss: 0.0692 - val_accuracy: 0.9935\n",
      "Epoch 49/50\n",
      "95/95 [==============================] - 26s 270ms/step - loss: 0.0947 - accuracy: 0.9908 - val_loss: 0.0862 - val_accuracy: 0.9909\n",
      "Epoch 50/50\n",
      "95/95 [==============================] - 26s 270ms/step - loss: 0.1597 - accuracy: 0.9835 - val_loss: 0.1333 - val_accuracy: 0.9896\n"
     ]
    }
   ],
   "source": [
    "# train the head of the network\n",
    "print(\"[INFO] training head...\")\n",
    "H = model.fit(\n",
    "\taug.flow(trainX, trainY, batch_size=BS),\n",
    "\tsteps_per_epoch=len(trainX) // BS,\n",
    "\tvalidation_data=(testX, testY),\n",
    "\tvalidation_steps=len(testX) // BS,\n",
    "\tepochs=EPOCHS)"
   ]
  },
  {
   "cell_type": "code",
   "execution_count": 13,
   "id": "19897b88",
   "metadata": {},
   "outputs": [
    {
     "name": "stdout",
     "output_type": "stream",
     "text": [
      "[INFO] evaluating network...\n"
     ]
    }
   ],
   "source": [
    "# make predictions on the testing set\n",
    "print(\"[INFO] evaluating network...\")\n",
    "predIdxs = model.predict(testX, batch_size=BS)"
   ]
  },
  {
   "cell_type": "code",
   "execution_count": 14,
   "id": "7806b2f7",
   "metadata": {},
   "outputs": [],
   "source": [
    "# for each image in the testing set we need to find the index of the\n",
    "# label with corresponding largest predicted probability\n",
    "predIdxs = np.argmax(predIdxs, axis=1)"
   ]
  },
  {
   "cell_type": "code",
   "execution_count": 15,
   "id": "27bb1ef8",
   "metadata": {},
   "outputs": [
    {
     "name": "stdout",
     "output_type": "stream",
     "text": [
      "              precision    recall  f1-score   support\n",
      "\n",
      "   with_mask       0.99      0.98      0.99       383\n",
      "without_mask       0.98      0.99      0.99       384\n",
      "\n",
      "    accuracy                           0.99       767\n",
      "   macro avg       0.99      0.99      0.99       767\n",
      "weighted avg       0.99      0.99      0.99       767\n",
      "\n"
     ]
    }
   ],
   "source": [
    "# show a nicely formatted classification report\n",
    "print(classification_report(testY.argmax(axis=1), predIdxs,\n",
    "\ttarget_names=lb.classes_))"
   ]
  },
  {
   "cell_type": "code",
   "execution_count": 16,
   "id": "f6b0a7bf",
   "metadata": {},
   "outputs": [
    {
     "name": "stdout",
     "output_type": "stream",
     "text": [
      "[INFO] saving mask detector model...\n"
     ]
    }
   ],
   "source": [
    "# serialize the model to disk\n",
    "print(\"[INFO] saving mask detector model...\")\n",
    "model.save(\"mask_detector\"+initParams+\".model\", save_format=\"h5\")"
   ]
  },
  {
   "cell_type": "code",
   "execution_count": 17,
   "id": "09369caf",
   "metadata": {},
   "outputs": [
    {
     "data": {
      "image/png": "[encoded data removed]",
      "text/plain": [
       "<Figure size 432x288 with 1 Axes>"
      ]
     },
     "metadata": {},
     "output_type": "display_data"
    }
   ],
   "source": [
    "# plot the training loss and accuracy\n",
    "N = EPOCHS\n",
    "plt.style.use(\"ggplot\")\n",
    "plt.figure()\n",
    "plt.plot(np.arange(0, N), H.history[\"loss\"], label=\"train_loss\")\n",
    "plt.plot(np.arange(0, N), H.history[\"val_loss\"], label=\"val_loss\")\n",
    "plt.plot(np.arange(0, N), H.history[\"accuracy\"], label=\"train_acc\")\n",
    "plt.plot(np.arange(0, N), H.history[\"val_accuracy\"], label=\"val_acc\")\n",
    "plt.title(\"Training Loss and Accuracy\")\n",
    "plt.xlabel(\"Epoch #\")\n",
    "plt.ylabel(\"Loss/Accuracy\")\n",
    "plt.legend(loc=\"lower left\")\n",
    "plt.savefig(initParams + \".png\")"
   ]
  },
  {
   "cell_type": "code",
   "execution_count": null,
   "id": "ca5b6254",
   "metadata": {},
   "outputs": [],
   "source": []
  },
  {
   "cell_type": "code",
   "execution_count": null,
   "id": "33aafeb0",
   "metadata": {},
   "outputs": [],
   "source": []
  }
 ],
 "metadata": {
  "kernelspec": {
   "display_name": "tf",
   "language": "python",
   "name": "tf"
  },
  "language_info": {
   "codemirror_mode": {
    "name": "ipython",
    "version": 3
   },
   "file_extension": ".py",
   "mimetype": "text/x-python",
   "name": "python",
   "nbconvert_exporter": "python",
   "pygments_lexer": "ipython3",
   "version": "3.9.0"
  }
 },
 "nbformat": 4,
 "nbformat_minor": 5
}
