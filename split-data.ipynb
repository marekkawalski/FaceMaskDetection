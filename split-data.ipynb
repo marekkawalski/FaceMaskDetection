{
 "cells": [
  {
   "cell_type": "code",
   "execution_count": 1,
   "id": "fc7971d3",
   "metadata": {},
   "outputs": [],
   "source": [
    "import shutil\n",
    "import os\n",
    "import glob"
   ]
  },
  {
   "cell_type": "code",
   "execution_count": 2,
   "id": "0870f706",
   "metadata": {},
   "outputs": [],
   "source": [
    "path = os.path.join('.\\photos','images', '*')\n",
    "list_files = glob.glob(path)\n",
    "for file in list_files:\n",
    "    if \"_1_\" in file:\n",
    "        shutil.move(file,os.path.join('.\\datasetV2', 'with_mask',''))\n",
    "    elif \"_2_\" in file:\n",
    "        shutil.move(file,os.path.join('.\\datasetV2', 'mask_covers_mouth',''))\n",
    "    elif \"_3_\" in file:\n",
    "        shutil.move(file,os.path.join('.\\datasetV2', 'mask_covers_chin',''))   \n",
    "    elif \"_4_\" in file:\n",
    "        shutil.move(file,os.path.join('.\\datasetV2', 'without_mask',''))          \n",
    "    "
   ]
  }
 ],
 "metadata": {
  "kernelspec": {
   "display_name": "tf",
   "language": "python",
   "name": "tf"
  },
  "language_info": {
   "codemirror_mode": {
    "name": "ipython",
    "version": 3
   },
   "file_extension": ".py",
   "mimetype": "text/x-python",
   "name": "python",
   "nbconvert_exporter": "python",
   "pygments_lexer": "ipython3",
   "version": "3.9.0"
  }
 },
 "nbformat": 4,
 "nbformat_minor": 5
}
